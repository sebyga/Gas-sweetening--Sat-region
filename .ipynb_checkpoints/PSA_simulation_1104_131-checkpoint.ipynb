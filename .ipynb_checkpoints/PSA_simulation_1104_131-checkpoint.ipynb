{
 "cells": [
  {
   "cell_type": "code",
   "execution_count": 1,
   "metadata": {},
   "outputs": [],
   "source": [
    "import pyiast\n",
    "import pandas as pd\n",
    "import numpy as np\n",
    "import os\n",
    "import matplotlib.pyplot as plt\n",
    "import pickle\n",
    "import time\n",
    "import os\n",
    "import scipy.optimize as optim\n",
    "import matplotlib.pyplot as plt\n",
    "\n",
    "df_NAME=pd.read_csv(\"list.csv\")\n",
    "\n",
    "bins_H2S = []\n",
    "for nam in df_NAME[\"NAME\"]:\n",
    "    f_tmp = open(\"iso_\"+nam+\"_saved.bin\",'rb')\n",
    "    bin_tmp = pickle.load(f_tmp)\n",
    "    bins_H2S.append(bin_tmp)\n",
    "    f_tmp.close()\n",
    "    \n",
    "bins_CO2 = []\n",
    "for nam in df_NAME[\"NAME\"]:\n",
    "    f_tmp = open(\"iso_\"+nam+\"_saved.bin\",'rb')\n",
    "    bin_tmp = pickle.load(f_tmp)\n",
    "    bins_CO2.append(bin_tmp)\n",
    "    f_tmp.close()\n",
    "\n",
    "Names_CO2=df_NAME[\"NAME\"].to_numpy()\n",
    "Names_H2S=df_NAME[\"NAME\"].to_numpy()\n",
    "dH_CO2 = np.array([df_NAME[\"CH4_Heat\"],df_NAME[\"H2S_Heat\"],df_NAME[\"CO2_Heat\"]]).T\n",
    "dH_H2S = np.array([df_NAME[\"CH4_Heat\"],df_NAME[\"H2S_Heat\"],df_NAME[\"CO2_Heat\"]]).T\n",
    "\n"
   ]
  },
  {
   "cell_type": "code",
   "execution_count": 2,
   "metadata": {},
   "outputs": [
    {
     "name": "stdout",
     "output_type": "stream",
     "text": [
      "['ABW_0' 'ABW_1' 'ACO_0' 'AEI_0' 'AEI_1' 'AEN_0' 'AEN_1' 'AFN_0' 'AFT_0'\n",
      " 'AFT_1' 'AFV' 'AFX_0' 'AFX_1' 'AHT_1' 'APC_0' 'APC_1' 'APC_2' 'APD_0'\n",
      " 'ATT_0' 'ATT_1' 'ATV_0' 'ATV_1' 'AVE' 'AVL' 'AWO_0' 'AWO_1' 'BIK_0'\n",
      " 'BIK_1' 'BRE_1' 'BSV_0' 'CAS_0' 'CDO_0' 'CDO_1' 'CGF_0' 'CHA_0' 'CHI_0'\n",
      " 'CZP_0' 'DAC_0' 'DDR_0' 'DDR_1' 'DFT_0' 'EAB_0' 'EAB_1' 'EAB_2' 'EDI_0'\n",
      " 'EDI_1' 'EDI_2' 'EPI_0' 'EPI_1' 'ERI_0' 'ERI_1' 'ERI_2' 'ESV_0' 'ESV_1'\n",
      " 'ETL' 'EWS' 'GIS_0' 'GIS_1' 'GIS_2' 'GIS_3' 'GIS_4' 'GIS_5' 'GIS_6'\n",
      " 'GOO_0' 'GOO_1' 'HEU_0' 'HEU_1' 'HEU_2' 'IFY' 'IHW_0' 'IHW_1' 'IRN'\n",
      " 'ITE_1' 'ITW_0' 'ITW_1' 'JBW_0' 'JOZ_0' 'JSN_0' 'JSN_1' 'JST_0' 'LEV_0'\n",
      " 'LEV_1' 'LEV_2' 'LOV_0' 'LTJ_0' 'LTJ_1' 'MER_1' 'MER_2' 'MON_0' 'MON_1'\n",
      " 'MRT' 'MTF_1' 'NAB_0' 'NPO_0' 'NPT_0' 'NSI_0' 'OWE_0' 'PAR_0' 'PAR_1'\n",
      " 'PAU_1' 'PHI_0' 'PHI_1' 'PHI_2' 'POR' 'RHO_1' 'RRO_0' 'RSN_0' 'RTE_0'\n",
      " 'RTE_1' 'RTH_1' 'RWR_0' 'RWR_1' 'SAT_0' 'SAT_1' 'SBN_0' 'SFW_0' 'SFW_1'\n",
      " 'SIV_0' 'STT_1' 'SWY' 'THO_0' 'UEI_0' 'UFI_0' 'UFI_1' 'VNI_0' 'VSV_0'\n",
      " 'WEI_0' 'YUG_0' 'YUG_1' 'ZON_0' 'ZON_1']\n"
     ]
    }
   ],
   "source": [
    "print(Names_H2S)"
   ]
  },
  {
   "cell_type": "code",
   "execution_count": 14,
   "metadata": {},
   "outputs": [],
   "source": [
    "Arrh = lambda T,dH ,T_ref: np.exp(-dH/8.3145*(1/T - 1/T_ref)) # Arrhenius equation (Clasius-Clapeyron Equation)\n",
    "\n",
    "## Isothermal mixture isotherm\n",
    "def iso_mix(P_par, T, iso_list, dH_list,Tref_list):\n",
    "    P_norm = []\n",
    "    for (p,dh,tref) in zip(P_par, dH_list,Tref_list):\n",
    "        p_n = Arrh(T,dh,tref)*p\n",
    "        P_norm.append(p_n)\n",
    "    P_norm_arr = np.array(P_norm)\n",
    "    #print(P_norm_mat.T)\n",
    "    if P_norm_arr.ndim > 1:\n",
    "        for i in range(len(P_norm[0])):\n",
    "            p_tmp = P_norm_arr[i,:]\n",
    "            p_tmp[p_tmp<0.000001] = 0.000001\n",
    "            q_IAST_tmp = pyiast.iast(p_tmp,\n",
    "                            iso_list,\n",
    "                            warningoff=True)\n",
    "    else:\n",
    "        try:\n",
    "            p_tmp = P_norm_arr\n",
    "            p_tmp[p_tmp<0.000001] = 0.000001\n",
    "            #print(p_tmp)\n",
    "            q_IAST_tmp = pyiast.iast(p_tmp,\n",
    "                                    iso_list,\n",
    "                                     warningoff=True)\n",
    "        except:    \n",
    "            try:\n",
    "                #print('Initial guess error with P = ',P_par)\n",
    "                x_IG = np.ones(len(p_tmp))/len(p_tmp)\n",
    "                q_IAST_tmp = pyiast.iast(p_tmp,\n",
    "                                        iso_list,adsorbed_mole_fraction_guess = x_IG,\n",
    "                                        warningoff=True)\n",
    "            except:\n",
    "                try:\n",
    "                    arg_min = np.argmin(p_tmp)\n",
    "                    p_tmp[p_tmp<0.000001] = 0.000001\n",
    "                    x_IG = 0.01*np.ones(len(p_tmp))\n",
    "                    x_IG[arg_min] = 1 - 0.01*(len(p_tmp)-1)\n",
    "                    #print(x_IG)\n",
    "                    q_IAST_tmp = pyiast.iast(p_tmp,\n",
    "                                            iso_list,adsorbed_mole_fraction_guess = x_IG,\n",
    "                                            warningoff=True)\n",
    "\n",
    "                except:\n",
    "                    arg_max = np.argmax(p_tmp)\n",
    "                    p_tmp[p_tmp<0.000001] = 0.000001\n",
    "                    x_IG = 0.01*np.ones(len(p_tmp))\n",
    "                    x_IG[arg_max] = 1 - 0.01*(len(p_tmp)-1)\n",
    "                    #print(x_IG)\n",
    "                    q_IAST_tmp = pyiast.iast(p_tmp,\n",
    "                                            iso_list,adsorbed_mole_fraction_guess = x_IG,\n",
    "                                            warningoff=True)        \n",
    "    return q_IAST_tmp"
   ]
  },
  {
   "cell_type": "code",
   "execution_count": 16,
   "metadata": {},
   "outputs": [],
   "source": [
    "def sat_fraction(y_lead,q_lead_array, y_follow,q_follow_array):\n",
    "    q_sat_lead_part, q_sat_lead_tot, q_des_lead = q_lead_array\n",
    "    q_sat_fo, q_des_fo = q_follow_array\n",
    "    numo = y_follow*(q_sat_lead_part - q_des_lead)+y_lead*q_des_fo\n",
    "    denom = y_follow*(q_sat_lead_part - q_sat_lead_tot)+y_lead*q_sat_fo\n",
    "    sat_frac = numo/denom\n",
    "    return sat_frac"
   ]
  },
  {
   "cell_type": "code",
   "execution_count": 17,
   "metadata": {},
   "outputs": [],
   "source": [
    "def x2x(x_ini,P_high,P_low,iso_input, dH_input, Tref_input,yfeed,Tfeed):\n",
    "    iso_1 = iso_input[2] # CH4\n",
    "    iso_2 = iso_input[0] # H2S\n",
    "    iso_3 = iso_input[1] # CO2\n",
    "    iso  = [iso_1,iso_2,iso_3]\n",
    "    dH_1, dH_2, dH_3 = dH_input[:3]         # (kJ/mol): Heat of adsorption\n",
    "    dH = np.array([dH_1,dH_2,dH_3])*1000    # (J/mol): Heat of adsorption \n",
    "    P_low_part = np.array(x_ini)*P_low      # (bar): partial pressure\n",
    "    P_high_part = np.array(yfeed)*P_high    # (bar): partial pressure\n",
    "    ### Uptakes\n",
    "    q_des = iso_mix(P_low_part,Tfeed,iso,\n",
    "                    dH_input,Tref_input)\n",
    "    q_sat_tot = iso_mix(P_high_part,Tfeed,iso,\n",
    "                        dH_input,Tref_input)\n",
    "    Dq_tot = q_sat_tot-q_des\n",
    "    ### Leading component ?\n",
    "    sat_extent = np.array(yfeed)/Dq_tot # Saturation extent kg/mol\n",
    "    ind_lead_tot = np.argmax(sat_extent)\n",
    "    sat_ext_raff = sat_extent[0]\n",
    "    sat_extent[0] = -10000\n",
    "    ind_lead = np.argmax(sat_extent)\n",
    "    \n",
    "    if ind_lead > 1.95:\n",
    "        ## CO2 leading case [index = 2]\n",
    "        yfeed_CO2 = np.array([yfeed[0], yfeed[2]])/(yfeed[0]+yfeed[2])\n",
    "        P_CO2_part= P_h * yfeed_CO2 # (bar): partial pressure\n",
    "        q_sat_CO2 = iso_mix(P_CO2_part,Tfeed,[iso[0],iso[2]],\n",
    "                            [dH[0],dH[2]],[Tref_input[0],Tref_input[2]])\n",
    "        q_sat_CO2 = np.array([q_sat_CO2[0],0, q_sat_CO2[1]])\n",
    "        q_lead_pack = [q_sat_CO2[2], q_sat_tot[2], q_des[2]] # CO2 uptakes\n",
    "        q_follow_pack = [q_sat_tot[1], q_des[1]]\n",
    "        s_H2S = sat_fraction(yfeed[2],q_lead_pack,yfeed[1],q_follow_pack)\n",
    "        q_bar_sat = s_H2S*q_sat_tot + (1-s_H2S)*q_sat_CO2\n",
    "        s = s_H2S\n",
    "        s_out = np.array([1,s,1])\n",
    "        leading_heavy_key = 2\n",
    "\n",
    "    else:\n",
    "        ## H2S leading case [index = 1]\n",
    "        yfeed_H2S = np.array([yfeed[0], yfeed[1]])/(yfeed[0]+yfeed[1])\n",
    "        P_H2S_part= P_h * yfeed_H2S # (bar): partial pressure\n",
    "        q_sat_H2S = iso_mix(P_H2S_part,Tfeed,[iso[0],iso[1]],\n",
    "                            [dH[0],dH[1]],[Tref_input[0],Tref_input[1]])\n",
    "        q_sat_H2S = np.array([q_sat_H2S[0],q_sat_H2S[1],0])\n",
    "        q_lead_pack = [q_sat_H2S[1],q_sat_tot[1],q_des[1]]\n",
    "        q_follow_pack = [q_sat_tot[2],q_des[2]]\n",
    "        s_CO2 = sat_fraction(yfeed[1],q_lead_pack,yfeed[2],q_follow_pack)\n",
    "        q_bar_sat = s_CO2*q_sat_tot + (1-s_CO2)*q_sat_H2S\n",
    "        s = s_CO2\n",
    "        s_out = np.array([1,1,s])\n",
    "        leading_heavy_key = 1\n",
    "    Dq_exhaust = q_bar_sat - q_des\n",
    "    x_out = np.array(Dq_exhaust)/np.sum(Dq_exhaust)\n",
    "    \n",
    "    sat_extent[0] = sat_ext_raff \n",
    "    return x_out,s_out,ind_lead_tot"
   ]
  },
  {
   "cell_type": "code",
   "execution_count": 19,
   "metadata": {},
   "outputs": [
    {
     "name": "stdout",
     "output_type": "stream",
     "text": [
      "(45.5049381775503, array([1.        , 1.        , 0.94352677]))\n"
     ]
    }
   ],
   "source": [
    "def Rec(x_ini,P_high,P_low,iso_input, dH_input, Tref_input,yfeed,Tfeed):\n",
    "  \n",
    "\n",
    "    def x_obj(x_in):\n",
    "        x_exh, s_f,i_lead = x2x(x_in,P_high,P_low,\n",
    "                                iso_input,dH_input,Tref_input,\n",
    "                                yfeed,Tfeed)\n",
    "        return (x_exh-x_in)**2*100\n",
    "    x00 = x_ini\n",
    "    solx = optim.least_squares(x_obj,x00,bounds= (0,1))\n",
    "    x_exh = solx.x\n",
    "\n",
    "    x_exh, s_f,i_lead = x2x(x_exh,P_high,P_low,\n",
    "                            iso_input, dH_input, Tref_input, \n",
    "                            yfeed,Tfeed)\n",
    "    if i_lead == 0:\n",
    "        if x_exh[1]>x_exh[2]:\n",
    "            y_hvy = yfeed[1]\n",
    "            x_hvy = x_exh[1]\n",
    "        else:\n",
    "            y_hvy = yfeed[2]\n",
    "            x_hvy = x_exh[2]\n",
    "        rec = (1-y_hvy/yfeed[0]*x_exh[0]/x_hvy)*100\n",
    "        return rec,s_f\n",
    "    else:\n",
    "        return 0,0\n",
    "\n",
    "### TEST ###\n",
    "x_guess = [0.8,0.1,0.1]\n",
    "y_feed_in = [0.8,0.05,0.15]\n",
    "T_feed_in = 317 ## \n",
    "P_h = 10\n",
    "P_l = 0.2\n",
    "T_tri = [298,]*3\n",
    "rec_res_tmp = Rec(x_guess,P_h,P_l,\n",
    "              bins_CO2[1],dH_CO2[1], T_tri,\n",
    "              y_feed_in, T_feed_in)\n",
    "print(rec_res_tmp)        "
   ]
  },
  {
   "cell_type": "code",
   "execution_count": null,
   "metadata": {
    "scrolled": false
   },
   "outputs": [
    {
     "name": "stdout",
     "output_type": "stream",
     "text": [
      "ABW_0 :  [41.55472088 41.51323207] 1\n",
      "ABW_1 :  [40.55050356 40.49874817] 1\n",
      "ACO_0 :  [42.23582791 42.20128294] 1\n",
      "AEI_0 :  [42.35579772 42.32247674] 1\n",
      "AEI_1 :  [42.1680168  42.13278199] 1\n",
      "AEN_0 :  [41.5350734 41.4933862] 1\n",
      "AEN_1 :  [40.54794602 40.49619079] 1\n",
      "AFN_0 :  [42.1849458  42.14988379] 1\n",
      "AFT_0 :  [42.38084164 42.34777562] 1\n",
      "AFT_1 :  [42.22101208 42.18631679] 1\n"
     ]
    }
   ],
   "source": [
    "### CO2 Case\n",
    "P_h_range = np.arange(2,18.1,0.25)\n",
    "x_guess = [0.8,0.1,0.1]\n",
    "y_feed_in = [0.6,0.15,0.25]# (mol/mol) feed composition\n",
    "T_feed_in = 313         # (K) temperature or 298K\n",
    "P_l = 1                     # (bar) vacuum pressure\n",
    "T_tri = [298.15,]*3\n",
    "rec_result = []\n",
    "sf_result = []\n",
    "sf_arg_result = []\n",
    "\n",
    "for bin,dH,nam in zip(bins_CO2,dH_CO2,Names_CO2):\n",
    "    rec_list_tmp = []\n",
    "    sf_list_tmp = []\n",
    "    sf_arg_list_tmp = []\n",
    "    for P in P_h_range:\n",
    "        rec_tmp,sf_tmp = Rec(x_guess,P,P_l,bin,dH, T_tri,y_feed_in, T_feed_in)\n",
    "        rec_list_tmp.append(rec_tmp)\n",
    "        sf_list_tmp.append(np.min(sf_tmp))\n",
    "        sf_arg_list_tmp.append(np.argmin(sf_tmp))\n",
    "    rec_list = np.array(rec_list_tmp)\n",
    "    rec_result.append(rec_list)\n",
    "    sf_arg_list = np.array(sf_arg_list_tmp)\n",
    "    sf_arg_result.append(sf_arg_list)\n",
    "    print(nam,': ', rec_list[-2:], sf_arg_list[-1])\n",
    "    sf_list = np.array(sf_list_tmp)\n",
    "    sf_result.append(sf_list)\n",
    "    "
   ]
  },
  {
   "cell_type": "code",
   "execution_count": 8,
   "metadata": {},
   "outputs": [
    {
     "name": "stdout",
     "output_type": "stream",
     "text": [
      "[]\n"
     ]
    }
   ],
   "source": [
    "### Sort CO2 Case Result!\n",
    "rec_last = []\n",
    "for rec_list in rec_result:\n",
    "    rec_last.append(rec_list[-1])\n",
    "rec_last = np.array(rec_last)\n",
    "ind_des = np.argsort(rec_last, )\n",
    "print(ind_des)\n",
    "\n",
    "# Arrange with the index\n",
    "rec_result_sort = np.array(rec_result)[ind_des][::-1]\n",
    "sf_result_sort = np.array(sf_result)[ind_des][::-1]\n",
    "Names_CO2_sort= Names_CO2[ind_des][::-1]\n",
    "sf_arg_result_sort = np.array(sf_arg_result)[ind_des][::-1]\n"
   ]
  },
  {
   "cell_type": "code",
   "execution_count": 9,
   "metadata": {},
   "outputs": [
    {
     "name": "stdout",
     "output_type": "stream",
     "text": [
      "3.0\n"
     ]
    },
    {
     "ename": "IndexError",
     "evalue": "index 0 is out of bounds for axis 0 with size 0",
     "output_type": "error",
     "traceback": [
      "\u001b[1;31m---------------------------------------------------------------------------\u001b[0m",
      "\u001b[1;31mIndexError\u001b[0m                                Traceback (most recent call last)",
      "\u001b[1;32m<ipython-input-9-444a86b6f5e0>\u001b[0m in \u001b[0;36m<module>\u001b[1;34m\u001b[0m\n\u001b[0;32m      1\u001b[0m \u001b[0mprint\u001b[0m\u001b[1;33m(\u001b[0m\u001b[0mP_h_range\u001b[0m\u001b[1;33m[\u001b[0m\u001b[1;36m4\u001b[0m\u001b[1;33m]\u001b[0m\u001b[1;33m)\u001b[0m\u001b[1;33m\u001b[0m\u001b[1;33m\u001b[0m\u001b[0m\n\u001b[1;32m----> 2\u001b[1;33m \u001b[0mprint\u001b[0m\u001b[1;33m(\u001b[0m\u001b[0mrec_result_sort\u001b[0m\u001b[1;33m[\u001b[0m\u001b[1;36m0\u001b[0m\u001b[1;33m]\u001b[0m\u001b[1;33m[\u001b[0m\u001b[1;36m4\u001b[0m\u001b[1;33m]\u001b[0m\u001b[1;33m)\u001b[0m\u001b[1;33m\u001b[0m\u001b[1;33m\u001b[0m\u001b[0m\n\u001b[0m\u001b[0;32m      3\u001b[0m \u001b[0mprint\u001b[0m\u001b[1;33m(\u001b[0m\u001b[0mP_h_range\u001b[0m\u001b[1;33m[\u001b[0m\u001b[1;36m44\u001b[0m\u001b[1;33m]\u001b[0m\u001b[1;33m)\u001b[0m\u001b[1;33m\u001b[0m\u001b[1;33m\u001b[0m\u001b[0m\n\u001b[0;32m      4\u001b[0m \u001b[0mprint\u001b[0m\u001b[1;33m(\u001b[0m\u001b[0mrec_result_sort\u001b[0m\u001b[1;33m[\u001b[0m\u001b[1;36m0\u001b[0m\u001b[1;33m]\u001b[0m\u001b[1;33m[\u001b[0m\u001b[1;36m44\u001b[0m\u001b[1;33m]\u001b[0m\u001b[1;33m)\u001b[0m\u001b[1;33m\u001b[0m\u001b[1;33m\u001b[0m\u001b[0m\n\u001b[0;32m      5\u001b[0m \u001b[0mtop5_5bar\u001b[0m \u001b[1;33m=\u001b[0m \u001b[1;33m[\u001b[0m\u001b[1;33m]\u001b[0m\u001b[1;33m\u001b[0m\u001b[1;33m\u001b[0m\u001b[0m\n",
      "\u001b[1;31mIndexError\u001b[0m: index 0 is out of bounds for axis 0 with size 0"
     ]
    }
   ],
   "source": [
    "print(P_h_range[4])\n",
    "print(rec_result_sort[0][4])\n",
    "print(P_h_range[44])\n",
    "print(rec_result_sort[0][44])\n",
    "top5_5bar = []\n",
    "top5_10bar = []\n",
    "for rr in rec_result_sort[0:]:\n",
    "    top5_5bar.append(rr[4])\n",
    "    top5_10bar.append(rr[44])\n",
    "print(Names_CO2_sort[0:])\n",
    "print(top5_5bar)\n",
    "print(top5_10bar)\n",
    "print(' ')"
   ]
  },
  {
   "cell_type": "code",
   "execution_count": 24,
   "metadata": {},
   "outputs": [
    {
     "name": "stdout",
     "output_type": "stream",
     "text": [
      "3.0\n",
      "0.8985992967751714\n",
      "13.0\n",
      "0.666801317879005\n",
      "['18041N3' '05001N2' '13180N3']\n",
      "[89.85992968 86.30090483  0.        ]\n",
      "[66.68013179 72.79683447  0.        ]\n",
      "[1, 2, 0]\n",
      "[1, 2, 0]\n"
     ]
    }
   ],
   "source": [
    "print(P_h_range[4])\n",
    "print(sf_result_sort[0][4])\n",
    "print(P_h_range[44])\n",
    "print(sf_result_sort[0][44])\n",
    "top5_5bar = []\n",
    "top5_15bar = []\n",
    "top5_5bar_arg = []\n",
    "top5_15bar_arg = []\n",
    "for rr in sf_result_sort[0:5]:\n",
    "    top5_5bar.append(rr[4])\n",
    "    top5_15bar.append(rr[44])\n",
    "for rr in sf_arg_result_sort[0:5]:\n",
    "    top5_5bar_arg.append(rr[4])\n",
    "    top5_15bar_arg.append(rr[44])\n",
    "print(Names_CO2_sort[0:5])\n",
    "print(np.array(top5_5bar)*100)\n",
    "print(np.array(top5_15bar)*100)\n",
    "print(top5_5bar_arg)\n",
    "print(top5_15bar_arg\n",
    "      "
   ]
  },
  {
   "cell_type": "code",
   "execution_count": 11,
   "metadata": {},
   "outputs": [
    {
     "name": "stdout",
     "output_type": "stream",
     "text": [
      "[]\n",
      "[]\n"
     ]
    },
    {
     "data": {
      "text/plain": [
       "<function numpy.reshape(a, newshape, order='C')>"
      ]
     },
     "execution_count": 11,
     "metadata": {},
     "output_type": "execute_result"
    }
   ],
   "source": [
    "print(Names_CO2_sort)\n",
    "print(rec_result_sort)\n",
    "np.reshape"
   ]
  },
  {
   "cell_type": "code",
   "execution_count": 12,
   "metadata": {},
   "outputs": [
    {
     "ename": "IndexError",
     "evalue": "index 0 is out of bounds for axis 0 with size 0",
     "output_type": "error",
     "traceback": [
      "\u001b[1;31m---------------------------------------------------------------------------\u001b[0m",
      "\u001b[1;31mIndexError\u001b[0m                                Traceback (most recent call last)",
      "\u001b[1;32m<ipython-input-12-a19441fcd988>\u001b[0m in \u001b[0;36m<module>\u001b[1;34m\u001b[0m\n\u001b[0;32m     12\u001b[0m \u001b[0mc_for\u001b[0m \u001b[1;33m=\u001b[0m \u001b[1;36m0\u001b[0m\u001b[1;33m\u001b[0m\u001b[1;33m\u001b[0m\u001b[0m\n\u001b[0;32m     13\u001b[0m \u001b[0mc_pl\u001b[0m \u001b[1;33m=\u001b[0m \u001b[1;36m0\u001b[0m\u001b[1;33m\u001b[0m\u001b[1;33m\u001b[0m\u001b[0m\n\u001b[1;32m---> 14\u001b[1;33m \u001b[1;32mfor\u001b[0m \u001b[0mre\u001b[0m\u001b[1;33m,\u001b[0m\u001b[0mnam\u001b[0m \u001b[1;32min\u001b[0m \u001b[0mzip\u001b[0m\u001b[1;33m(\u001b[0m\u001b[0mrec_result_sort\u001b[0m\u001b[1;33m,\u001b[0m\u001b[0mNames_CO2_sort\u001b[0m\u001b[1;33m[\u001b[0m\u001b[1;36m0\u001b[0m\u001b[1;33m]\u001b[0m\u001b[1;33m)\u001b[0m\u001b[1;33m:\u001b[0m\u001b[1;33m\u001b[0m\u001b[1;33m\u001b[0m\u001b[0m\n\u001b[0m\u001b[0;32m     15\u001b[0m     \u001b[0mplt\u001b[0m\u001b[1;33m.\u001b[0m\u001b[0mplot\u001b[0m\u001b[1;33m(\u001b[0m\u001b[0mP_h_range\u001b[0m\u001b[1;33m,\u001b[0m \u001b[0mre\u001b[0m\u001b[1;33m,\u001b[0m\u001b[1;34m'k'\u001b[0m\u001b[1;33m,\u001b[0m \u001b[0mls\u001b[0m \u001b[1;33m=\u001b[0m\u001b[0mL_styles\u001b[0m\u001b[1;33m[\u001b[0m\u001b[0mc_for\u001b[0m\u001b[1;33m]\u001b[0m\u001b[1;33m,\u001b[0m \u001b[0mlw\u001b[0m \u001b[1;33m=\u001b[0m \u001b[1;36m2.2\u001b[0m\u001b[1;33m)\u001b[0m\u001b[1;33m\u001b[0m\u001b[1;33m\u001b[0m\u001b[0m\n\u001b[0;32m     16\u001b[0m     \u001b[0mc_for\u001b[0m \u001b[1;33m=\u001b[0m \u001b[0mc_for\u001b[0m\u001b[1;33m+\u001b[0m\u001b[1;36m1\u001b[0m\u001b[1;33m\u001b[0m\u001b[1;33m\u001b[0m\u001b[0m\n",
      "\u001b[1;31mIndexError\u001b[0m: index 0 is out of bounds for axis 0 with size 0"
     ]
    },
    {
     "data": {
      "text/plain": [
       "<Figure size 600x400 with 0 Axes>"
      ]
     },
     "metadata": {},
     "output_type": "display_data"
    }
   ],
   "source": [
    "### Line Styles\n",
    "line_len = [1,3,5]\n",
    "space_len = [1,2,4]\n",
    "L_styles = [(0,())]\n",
    "for line in line_len:\n",
    "        for space in space_len:\n",
    "            style_temp = (line, space)\n",
    "            L_styles.append((0,style_temp))\n",
    "### Plotting\n",
    "dpi = 100\n",
    "plt.figure(dpi = dpi)\n",
    "c_for = 0\n",
    "c_pl = 0\n",
    "for re,nam in zip(rec_result_sort,Names_CO2_sort[0]):\n",
    "    plt.plot(P_h_range, re,'k', ls =L_styles[c_for], lw = 2.2)\n",
    "    c_for = c_for+1\n",
    "    c_pl = c_pl +1\n",
    "    if c_for > len(L_styles)-1:c_for = 0\n",
    "\n",
    "plt.legend(Names_CO2_sort[:20],fontsize = 12, bbox_to_anchor=(0.99, 1.02), loc='upper left')\n",
    "plt.grid(ls = '--')\n",
    "plt.xlabel('Operating pressure (bar)',fontsize = 13)\n",
    "plt.ylabel('Natural gas recovery (%)',fontsize = 13)\n",
    "plt.xlim([2,14.8])\n",
    "#plt.ylim([40,90])"
   ]
  },
  {
   "cell_type": "code",
   "execution_count": 97,
   "metadata": {},
   "outputs": [
    {
     "name": "stdout",
     "output_type": "stream",
     "text": [
      "18041N3\n"
     ]
    },
    {
     "data": {
      "text/plain": [
       "[<matplotlib.lines.Line2D at 0x23c7b025610>]"
      ]
     },
     "execution_count": 97,
     "metadata": {},
     "output_type": "execute_result"
    },
    {
     "data": {
      "image/png": "[encoded data removed]",
      "text/plain": [
       "<Figure size 432x288 with 1 Axes>"
      ]
     },
     "metadata": {
      "needs_background": "light"
     },
     "output_type": "display_data"
    }
   ],
   "source": [
    "rec_col = []\n",
    "x_guess = [0.8,0.05,0.15]\n",
    "P_l = 0.7\n",
    "print(Names_H2S[2])\n",
    "P_h_ran = np.arange(2,15,0.5)\n",
    "for P in P_h_ran:\n",
    "    rec_tmp,sf_tmp = Rec(x_guess,P,P_l,\n",
    "                        bins_H2S[2],dH_H2S[2], T_tri,\n",
    "                        y_feed_in, T_feed_in)\n",
    "    rec_col.append(rec_tmp)\n",
    "plt.figure()\n",
    "plt.plot(P_h_ran,np.array(rec_col))\n",
    "#cc = np.arange(1,11)\n",
    "#x_col = []\n",
    "#xxx = x_guess\n",
    "#for c in cc:\n",
    "#    x_col.append(xxx)\n",
    "#    xxx = x2x(xxx,3,1,bin,dH,T_tri,y_feed_in,T_feed_in)\n",
    "#plt.plot(cc,np.array(x_col)[:,1])"
   ]
  },
  {
   "cell_type": "code",
   "execution_count": 13,
   "metadata": {},
   "outputs": [
    {
     "name": "stdout",
     "output_type": "stream",
     "text": [
      "05001N2 :  [20.80809606 21.0522413 ] 2\n",
      "13180N3 :  [0 0] 0\n"
     ]
    },
    {
     "name": "stderr",
     "output_type": "stream",
     "text": [
      "C:\\Users\\LeBlanc\\anaconda3\\pyiast\\isotherms.py:354: RuntimeWarning: invalid value encountered in log\n",
      "  return self.params[\"M\"] * np.log(1.0 + self.params[\"Ka\"] * pressure\n"
     ]
    },
    {
     "name": "stdout",
     "output_type": "stream",
     "text": [
      "18041N3 :  [81.77274161 81.79339996] 1\n",
      "HKUST1 :  [9.07715483 9.01726723] 1\n",
      "UTSA16 :  [88.1932405  88.21598651] 1\n"
     ]
    }
   ],
   "source": [
    "### H2S Case\n",
    "P_h_range = np.arange(4,20.1,0.25)\n",
    "x_guess = [0.7,0.15,0.15]\n",
    "y_feed_in = [0.6,0.15,0.25] # (mol/mol) feed composition\n",
    "T_feed_in = 313             # (K) temperature or 317K\n",
    "P_l = 1   # (bar) vacuum pressure\n",
    "T_tri = [298.15,]*3\n",
    "rec_result = []\n",
    "sf_result = []\n",
    "for bin,dH,nam in zip(bins_H2S,dH_H2S,Names_H2S):\n",
    "    rec_list_tmp = []\n",
    "    sf_list_tmp = []\n",
    "    sf_arg_list_tmp = []\n",
    "    for P in P_h_range:\n",
    "        rec_tmp,sf_tmp = Rec(x_guess,P,P_l,bin,dH, T_tri,y_feed_in, T_feed_in)\n",
    "        rec_list_tmp.append(rec_tmp)\n",
    "        sf_list_tmp.append(np.min(sf_tmp))\n",
    "        sf_arg_list_tmp.append(np.argmin(sf_tmp))\n",
    "    rec_list = np.array(rec_list_tmp)\n",
    "    rec_result.append(rec_list)\n",
    "    sf_arg_list = np.array(sf_arg_list_tmp)\n",
    "    sf_arg_result.append(sf_arg_list)\n",
    "    print(nam,': ', rec_list[-2:], sf_arg_list[-1])\n",
    "    sf_list = np.array(sf_list_tmp)\n",
    "    sf_result.append(sf_list)"
   ]
  },
  {
   "cell_type": "code",
   "execution_count": 41,
   "metadata": {},
   "outputs": [
    {
     "name": "stdout",
     "output_type": "stream",
     "text": [
      "[1 0 2]\n"
     ]
    }
   ],
   "source": [
    "### Sort H2S Case Result!\n",
    "rec_last = []\n",
    "for rec_list in rec_result:\n",
    "    rec_last.append(rec_list[-1])\n",
    "rec_last = np.array(rec_last)\n",
    "ind_des = np.argsort(rec_last, )\n",
    "print(ind_des)\n",
    "\n",
    "# Arrange with the index\n",
    "rec_result_sort = np.array(rec_result)[ind_des][::-1]\n",
    "sf_result_sort = np.array(sf_result)[ind_des][::-1]\n",
    "Names_H2S_sort= Names_H2S[ind_des][::-1]\n"
   ]
  },
  {
   "cell_type": "code",
   "execution_count": null,
   "metadata": {},
   "outputs": [],
   "source": [
    "print(P_h_range[4])\n",
    "print(rec_result_sort[0][4])\n",
    "print(P_h_range[44])\n",
    "print(rec_result_sort[0][44])\n",
    "top5_5bar = []\n",
    "top5_10bar = []\n",
    "for rr in rec_result_sort[0:]:\n",
    "    top5_5bar.append(rr[4])\n",
    "    top5_10bar.append(rr[44])\n",
    "print(Names_H2S_sort[0:])\n",
    "print(top5_5bar)\n",
    "print(top5_10bar)"
   ]
  },
  {
   "cell_type": "code",
   "execution_count": null,
   "metadata": {},
   "outputs": [],
   "source": [
    "### Plotting H2S case\n",
    "# Line Styles\n",
    "line_len = [1,3,5]\n",
    "space_len = [1,2]\n",
    "L_styles = [(0,())]\n",
    "for line in line_len:\n",
    "        for space in space_len:\n",
    "            style_temp = (line, space)\n",
    "            L_styles.append((0,style_temp))\n",
    "# Plotting\n",
    "dpi = 100\n",
    "plt.figure(dpi = dpi)\n",
    "c_for = 0\n",
    "c_pl = 0\n",
    "for re,nam in zip(rec_result_sort,Names_H2S_sort):\n",
    "    plt.plot(P_h_range, re,'k', ls =L_styles[c_for], lw = 2.2)\n",
    "    c_for = c_for+1\n",
    "    c_pl = c_pl + 1\n",
    "    if c_pl >= 10: break\n",
    "    if c_for > len(L_styles)-1:c_for = 0\n",
    "    \n",
    "\n",
    "plt.legend(Names_H2S_sort[0:10],fontsize = 12, bbox_to_anchor=(0.99, 1.02), loc='upper left')\n",
    "plt.grid(ls = '--')\n",
    "plt.xlabel('Operating pressure (bar)',fontsize = 13)\n",
    "plt.ylabel('Natural gas recovery (%)',fontsize = 13)\n",
    "plt.xlim([4.6,20.8])\n",
    "plt.ylim([45,95])"
   ]
  },
  {
   "cell_type": "code",
   "execution_count": null,
   "metadata": {},
   "outputs": [
    {
     "name": "stderr",
     "output_type": "stream",
     "text": [
      "C:\\Users\\LeBlanc\\anaconda3\\pyiast\\isotherms.py:354: RuntimeWarning: invalid value encountered in log\n",
      "  return self.params[\"M\"] * np.log(1.0 + self.params[\"Ka\"] * pressure\n"
     ]
    }
   ],
   "source": [
    "### CO2 Case\n",
    "yh2s = np.arange(0.03, 0.371, 0.01)\n",
    "x_guess = [0.8,0.1,0.1]\n",
    "y_feed_in = [0.6,0.15,0.25] # (mol/mol) feed composition\n",
    "T_feed_in = 313             # (K) temperature or 317K\n",
    "P_h = 5     # (bar) compressed prssure\n",
    "P_l = 0.5   # (bar) vacuum pressure\n",
    "T_tri = [298.15,]*3\n",
    "rec_result = []\n",
    "sf_result = []\n",
    "for bin,dH,nam in zip(bins_CO2,dH_CO2,Names_CO2):\n",
    "    rec_list_tmp = []\n",
    "    sf_list_tmp = []\n",
    "    for yy in yh2s:\n",
    "        rec_tmp,sf_tmp = Rec(x_guess,P_h,P_l,\n",
    "                             bin,dH, T_tri,\n",
    "                             [y_feed_in[0], yy, 0.4-yy], T_feed_in)\n",
    "        rec_list_tmp.append(rec_tmp)\n",
    "        sf_list_tmp.append(np.min(sf_tmp))\n",
    "    rec_list = np.array(rec_list_tmp)\n",
    "    rec_result.append(rec_list)\n",
    "    sf_list = np.array(sf_list_tmp)\n",
    "    sf_result.append(sf_list)\n"
   ]
  },
  {
   "cell_type": "code",
   "execution_count": null,
   "metadata": {},
   "outputs": [],
   "source": [
    "### Sort ! # CO2 case\n",
    "rec_last = []\n",
    "for rec_list in rec_result:\n",
    "    rec_last.append(rec_list[-1])\n",
    "rec_last = np.array(rec_last)\n",
    "ind_des = np.argsort(rec_last, )\n",
    "print(ind_des)\n",
    "\n",
    "# Arrange with the index\n",
    "rec_result_sort = np.array(rec_result)[ind_des][::-1]\n",
    "sf_result_sort = np.array(sf_result)[ind_des][::-1]\n",
    "Names_CO2_sort= Names_CO2[ind_des][::-1]\n"
   ]
  },
  {
   "cell_type": "code",
   "execution_count": null,
   "metadata": {},
   "outputs": [],
   "source": [
    "### Line Styles\n",
    "line_len = [1,3,5]\n",
    "space_len = [1,2,4]\n",
    "L_styles = [(0,())]\n",
    "for line in line_len:\n",
    "        for space in space_len:\n",
    "            style_temp = (line, space)\n",
    "            L_styles.append((0,style_temp))\n",
    "### Plotting\n",
    "plt.figure()\n",
    "c_for = 0\n",
    "c_pl = 0\n",
    "for re,nam in zip(rec_result_sort,Names_CO2):\n",
    "    plt.plot(yh2s, re,'k', ls =L_styles[c_for], lw = 2.2)\n",
    "    c_for = c_for+1\n",
    "    c_pl = c_pl+1\n",
    "    if c_pl >= 8: break\n",
    "    if c_for > len(L_styles)-1:c_for = 0\n",
    "    \n",
    "plt.legend(Names_CO2_sort[0:8],fontsize = 12,\n",
    "           bbox_to_anchor=(0.99, 1.02), loc='upper left')\n",
    "plt.grid(ls = '--')\n",
    "plt.title('Natural Gas Recovery', fontsize=15.5)\n",
    "plt.xlabel('$y_{H_2S} = 0.3-y_{CO_2}$(mol/mol)',fontsize = 13)\n",
    "plt.ylabel('recovery (%)',fontsize = 13)\n",
    "plt.ylim([53,90])\n",
    "#plt.ylim([85.7,87])\n",
    "\n",
    "## Saturation region\n",
    "dpi = 100\n",
    "plt.figure(dpi = dpi)\n",
    "c_for = 0\n",
    "c_pl = 0\n",
    "for re,nam in zip(sf_result_sort,Names_CO2):\n",
    "    plt.plot(yh2s, re*100,'k', ls =L_styles[c_for], lw = 2.2)\n",
    "    c_for = c_for+1\n",
    "    c_pl = c_pl +1 \n",
    "    if c_pl >= 8: break\n",
    "    if c_for > len(L_styles)-1:c_for = 0\n",
    "    \n",
    "plt.legend(Names_CO2_sort[0:8],fontsize = 12,\n",
    "           bbox_to_anchor=(0.99, 1.02), loc='upper left')\n",
    "plt.grid(ls = '--')\n",
    "plt.title('Use of Bed Capacity', fontsize=15.5)\n",
    "plt.xlabel('$y_{H_2S} = 0.3-y_{CO_2}$(mol/mol)',fontsize = 13)\n",
    "plt.ylabel('Saturation region fraction (%)',fontsize = 13)\n"
   ]
  },
  {
   "cell_type": "code",
   "execution_count": null,
   "metadata": {},
   "outputs": [],
   "source": [
    "### CO2 Case\n",
    "yh2s = np.arange(0.03, 0.371, 0.01)\n",
    "x_guess = [0.8,0.1,0.1]\n",
    "y_feed_in = [0.6,0.15,0.25] # (mol/mol) feed composition\n",
    "T_feed_in = 313             # (K) temperature or 317K\n",
    "P_h = 5     # (bar) compressed prssure\n",
    "P_l = 0.5   # (bar) vacuum pressure\n",
    "T_tri = [298.15,]*3\n",
    "\n",
    "rec_result = []\n",
    "sf_result = []\n",
    "for bin,dH,nam in zip(bins_H2S,dH_H2S,Names_H2S):\n",
    "    rec_list_tmp = []\n",
    "    sf_list_tmp = []\n",
    "    for yy in yh2s:\n",
    "        sum_sign = 0\n",
    "        sum_sign_1 = 0\n",
    "        sum_sign_2 = 0\n",
    "        for k in range(3):\n",
    "            sum_sign = sum_sign + np.sign(bin[k].params['K1'])\n",
    "            sum_sign = sum_sign + np.sign(bin[k].params['K2'])\n",
    "            sum_sign_1 = sum_sign_1 + np.sign(bin[k].params['M1'])\n",
    "            sum_sign_2 = sum_sign_2 + np.sign(bin[k].params['M2'])\n",
    "        if sum_sign < 5.7:\n",
    "            rec_tmp = -1\n",
    "            sf_tmp = -1\n",
    "        elif sum_sign_1 < 0:\n",
    "            rec_tmp = -2\n",
    "            sf_tmp = -2\n",
    "        elif sum_sign_2 < 2.5:\n",
    "            rec_tmp = -3\n",
    "            sf_tmp = -3\n",
    "        else:\n",
    "            rec_tmp,sf_tmp = Rec(x_guess,P_h,P_l,\n",
    "                                 bin,dH, T_tri,\n",
    "                                 [y_feed_in[0], yy, 0.4-yy], T_feed_in)\n",
    "                    \n",
    "        rec_list_tmp.append(rec_tmp)\n",
    "        sf_list_tmp.append(np.min(sf_tmp))\n",
    "    rec_list = np.array(rec_list_tmp)\n",
    "    rec_result.append(rec_list)\n",
    "    print('{:5s} : '.format(nam), rec_list[-5:])\n",
    "\n",
    "    sf_list = np.array(sf_list_tmp)\n",
    "    sf_result.append(sf_list)\n"
   ]
  },
  {
   "cell_type": "code",
   "execution_count": null,
   "metadata": {},
   "outputs": [],
   "source": [
    "### Sort ! # H2S case\n",
    "rec_last = []\n",
    "for rec_list in rec_result:\n",
    "    rec_last.append(rec_list[-1])\n",
    "rec_last = np.array(rec_last)\n",
    "ind_des = np.argsort(rec_last, )\n",
    "print(ind_des)\n",
    "\n",
    "# Arrange with the index\n",
    "rec_result_sort = np.array(rec_result)[ind_des][::-1]\n",
    "sf_result_sort = np.array(sf_result)[ind_des][::-1]\n",
    "Names_H2S_sort= Names_H2S[ind_des][::-1]\n"
   ]
  },
  {
   "cell_type": "code",
   "execution_count": null,
   "metadata": {},
   "outputs": [],
   "source": [
    "### Line Styles\n",
    "line_len = [1,3,5]\n",
    "space_len = [1,2,4]\n",
    "L_styles = [(0,())]\n",
    "for line in line_len:\n",
    "        for space in space_len:\n",
    "            style_temp = (line, space)\n",
    "            L_styles.append((0,style_temp))\n",
    "### Plotting\n",
    "dpi = 100\n",
    "plt.figure(dpi = dpi)\n",
    "c_for = 0\n",
    "c_pl = 0\n",
    "for re,nam in zip(rec_result_sort,Names_CO2):\n",
    "    plt.plot(yh2s, re,'k', ls =L_styles[c_for], lw = 2.2)\n",
    "    c_for = c_for+1\n",
    "    c_pl = c_pl+1\n",
    "    if c_pl >= 8: break\n",
    "    if c_for > len(L_styles)-1:c_for = 0\n",
    "    \n",
    "plt.legend(Names_H2S_sort[0:8],fontsize = 12,\n",
    "           bbox_to_anchor=(0.99, 1.02), loc='upper left')\n",
    "plt.grid(ls = '--')\n",
    "plt.title('Natural Gas Recovery', fontsize=15.5)\n",
    "plt.xlabel('$y_{H_2S} = 0.3-y_{CO_2}$(mol/mol)',fontsize = 13)\n",
    "plt.ylabel('recovery (%)',fontsize = 13)\n",
    "plt.ylim([53,90])\n",
    "#plt.ylim([85.7,87])\n",
    "\n",
    "## Saturation region\n",
    "dpi = 100\n",
    "plt.figure(dpi = dpi)\n",
    "c_for = 0\n",
    "c_pl = 0\n",
    "for re,nam in zip(sf_result_sort,Names_CO2):\n",
    "    plt.plot(yh2s, re*100,'k', ls =L_styles[c_for], lw = 2.2)\n",
    "    c_for = c_for+1\n",
    "    c_pl = c_pl +1 \n",
    "    if c_pl >= 8: break\n",
    "    if c_for > len(L_styles)-1:c_for = 0\n",
    "    \n",
    "plt.legend(Names_H2S_sort[0:8],fontsize = 12,\n",
    "           bbox_to_anchor=(0.99, 1.02), loc='upper left')\n",
    "plt.grid(ls = '--')\n",
    "plt.title('Use of Bed Capacity', fontsize=15.5)\n",
    "plt.xlabel('$y_{H_2S} = 0.3-y_{CO_2}$(mol/mol)',fontsize = 13)\n",
    "plt.ylabel('Saturation region fraction (%)',fontsize = 13)"
   ]
  },
  {
   "cell_type": "code",
   "execution_count": null,
   "metadata": {},
   "outputs": [],
   "source": [
    "### CO2 Case\n",
    "ych4 = np.arange(0.4, 0.82, 0.05)\n",
    "x_guess = [0.8,0.1,0.1]\n",
    "y_feed_in = [0.6,0.15,0.25] # (mol/mol) feed composition\n",
    "T_feed_in = 313             # (K) temperature or 317K\n",
    "P_h = 5     # (bar) compressed prssure\n",
    "P_l = 0.5   # (bar) vacuum pressure\n",
    "T_tri = [298.15,]*3\n",
    "rec_result = []\n",
    "sf_result = []\n",
    "for bin,dH,nam in zip(bins_CO2,dH_CO2,Names_CO2):\n",
    "    rec_list_tmp = []\n",
    "    sf_list_tmp = []\n",
    "    for yy in ych4:\n",
    "        rec_tmp,sf_tmp = Rec(x_guess,P_h,P_l,\n",
    "                             bin,dH, T_tri,\n",
    "                             [yy, 3/8*(1-yy), 5/8*(1-yy)], T_feed_in)\n",
    "        rec_list_tmp.append(rec_tmp)\n",
    "        sf_list_tmp.append(np.min(sf_tmp))\n",
    "    rec_list = np.array(rec_list_tmp)\n",
    "    rec_result.append(rec_list)\n",
    "    sf_list = np.array(sf_list_tmp)\n",
    "    sf_result.append(sf_list)"
   ]
  },
  {
   "cell_type": "code",
   "execution_count": null,
   "metadata": {},
   "outputs": [],
   "source": [
    "### Sort ! # CO2 case\n",
    "rec_last = []\n",
    "for rec_list in rec_result:\n",
    "    rec_last.append(rec_list[-1])\n",
    "rec_last = np.array(rec_last)\n",
    "ind_des = np.argsort(rec_last, )\n",
    "print(ind_des)\n",
    "\n",
    "# Arrange with the index\n",
    "rec_result_sort = np.array(rec_result)[ind_des][::-1]\n",
    "sf_result_sort = np.array(sf_result)[ind_des][::-1]\n",
    "Names_CO2_sort= Names_CO2[ind_des][::-1]\n"
   ]
  },
  {
   "cell_type": "code",
   "execution_count": null,
   "metadata": {},
   "outputs": [],
   "source": [
    "### Line Styles\n",
    "line_len = [1,3,5]\n",
    "space_len = [1,2]\n",
    "L_styles = [(0,())]\n",
    "for line in line_len:\n",
    "        for space in space_len:\n",
    "            style_temp = (line, space)\n",
    "            L_styles.append((0,style_temp))\n",
    "### Plotting\n",
    "dpi = 100\n",
    "plt.figure(dpi = dpi)\n",
    "c_for = 0\n",
    "c_pl = 0\n",
    "for re,nam in zip(rec_result_sort,Names_CO2):\n",
    "    plt.plot(ych4, re,'k', ls =L_styles[c_for], lw = 2.2)\n",
    "    c_for = c_for+1\n",
    "    c_pl = c_pl+1\n",
    "    if c_pl >= 10: break\n",
    "    if c_for > len(L_styles)-1:c_for = 0\n",
    "plt.legend(Names_CO2_sort[0:10],fontsize = 12,\n",
    "           bbox_to_anchor=(0.99, 1.02), loc='upper left')\n",
    "plt.grid(ls = '--')\n",
    "plt.title('Natural Gas Recovery', fontsize=15.5)\n",
    "plt.xlabel('$y_{CH_4}$ (mol/mol)',fontsize = 13)\n",
    "plt.ylabel('recovery (%)',fontsize = 13)\n",
    "plt.ylim([50,90])\n",
    "#plt.ylim([85.7,87])\n",
    "\n",
    "## Saturation region\n",
    "dpi = 100\n",
    "plt.figure(dpi = dpi)\n",
    "c_for = 0\n",
    "c_pl = 0\n",
    "for re,nam in zip(sf_result_sort,Names_CO2):\n",
    "    plt.plot(ych4, re*100,'k', ls =L_styles[c_for], lw = 2.2)\n",
    "    c_for = c_for+1\n",
    "    c_pl = c_pl +1 \n",
    "    if c_pl >= 10: break\n",
    "    if c_for > len(L_styles)-1:c_for = 0\n",
    "plt.legend(Names_CO2_sort[0:10],fontsize = 12,\n",
    "           bbox_to_anchor=(0.99, 1.02), loc='upper left')\n",
    "plt.grid(ls = '--')\n",
    "plt.title('Use of Bed Capacity', fontsize=15.5)\n",
    "plt.xlabel('$y_{CH_4}$ (mol/mol)',fontsize = 13)\n",
    "plt.ylabel('Saturation region fraction (%)',fontsize = 13)\n"
   ]
  },
  {
   "cell_type": "code",
   "execution_count": null,
   "metadata": {},
   "outputs": [],
   "source": [
    "numb = 1\n",
    "for recc in rec_result_sort:\n",
    "    print(numb,': ', recc[0])\n",
    "    numb = numb+1"
   ]
  },
  {
   "cell_type": "code",
   "execution_count": null,
   "metadata": {},
   "outputs": [],
   "source": [
    "## Count errors\n",
    "n_err = 0\n",
    "for res in rec_result_sort[::-1]:\n",
    "    if res[-1] >= 0: break\n",
    "    #print(res[-1])\n",
    "    n_err = n_err + 1    \n",
    "print('Number of error casess: ', n_err)\n",
    "print('                         out of ', len(rec_result_sort))"
   ]
  },
  {
   "cell_type": "code",
   "execution_count": null,
   "metadata": {},
   "outputs": [],
   "source": []
  }
 ],
 "metadata": {
  "kernelspec": {
   "display_name": "Python 3",
   "language": "python",
   "name": "python3"
  },
  "language_info": {
   "codemirror_mode": {
    "name": "ipython",
    "version": 3
   },
   "file_extension": ".py",
   "mimetype": "text/x-python",
   "name": "python",
   "nbconvert_exporter": "python",
   "pygments_lexer": "ipython3",
   "version": "3.8.3"
  },
  "toc": {
   "base_numbering": 1,
   "nav_menu": {},
   "number_sections": true,
   "sideBar": true,
   "skip_h1_title": false,
   "title_cell": "Table of Contents",
   "title_sidebar": "Contents",
   "toc_cell": false,
   "toc_position": {
    "height": "calc(100% - 180px)",
    "left": "10px",
    "top": "150px",
    "width": "372.364px"
   },
   "toc_section_display": true,
   "toc_window_display": false
  },
  "varInspector": {
   "cols": {
    "lenName": 16,
    "lenType": 16,
    "lenVar": 40
   },
   "kernels_config": {
    "python": {
     "delete_cmd_postfix": "",
     "delete_cmd_prefix": "del ",
     "library": "var_list.py",
     "varRefreshCmd": "print(var_dic_list())"
    },
    "r": {
     "delete_cmd_postfix": ") ",
     "delete_cmd_prefix": "rm(",
     "library": "var_list.r",
     "varRefreshCmd": "cat(var_dic_list()) "
    }
   },
   "types_to_exclude": [
    "module",
    "function",
    "builtin_function_or_method",
    "instance",
    "_Feature"
   ],
   "window_display": false
  }
 },
 "nbformat": 4,
 "nbformat_minor": 4
}
